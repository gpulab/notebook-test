{
 "cells": [
  {
   "cell_type": "markdown",
   "id": "representative-software",
   "metadata": {},
   "source": [
    "# R Example\n",
    "\n",
    "see: https://github.com/tidyverse/dplyr"
   ]
  },
  {
   "cell_type": "code",
   "execution_count": null,
   "id": "historic-tribune",
   "metadata": {},
   "outputs": [],
   "source": [
    "library(ggplot2)\n",
    "ggplot(data=iris, aes(x=Sepal.Length, y=Sepal.Width, color=Species)) + geom_point(size=3)"
   ]
  }
 ],
 "metadata": {
  "kernelspec": {
   "display_name": "R",
   "language": "R",
   "name": "ir"
  },
  "language_info": {
   "codemirror_mode": "r",
   "file_extension": ".r",
   "mimetype": "text/x-r-source",
   "name": "R",
   "pygments_lexer": "r",
   "version": "3.6.3"
  }
 },
 "nbformat": 4,
 "nbformat_minor": 5
}
