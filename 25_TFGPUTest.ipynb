{
 "cells": [
  {
   "cell_type": "markdown",
   "metadata": {},
   "source": [
    "# TensorFlow CUDA Test"
   ]
  },
  {
   "cell_type": "code",
   "execution_count": null,
   "metadata": {},
   "outputs": [],
   "source": [
    "import tensorflow as tf\n",
    "import time"
   ]
  },
  {
   "cell_type": "code",
   "execution_count": null,
   "metadata": {},
   "outputs": [],
   "source": [
    "print(f\"TensorFlow version: {tf.__version__}\")\n",
    "print(f\"TensorFlow CUDA support: {tf.test.is_built_with_cuda()}\")"
   ]
  },
  {
   "cell_type": "code",
   "execution_count": null,
   "metadata": {},
   "outputs": [],
   "source": [
    "tf.config.list_physical_devices('GPU')"
   ]
  },
  {
   "cell_type": "code",
   "execution_count": null,
   "metadata": {},
   "outputs": [],
   "source": [
    "sz = 10000\n",
    "loops = 100\n",
    "\n",
    "with tf.device('/cpu:0'):\n",
    "    start = time.time()\n",
    "\n",
    "    A = tf.constant(tf.eye(sz, sz))\n",
    "    for x in range(loops):\n",
    "        A = A * 100\n",
    "\n",
    "    print(f\"CPU execution time: {time.time() - start}\")\n",
    "\n",
    "\n",
    "with tf.device('/gpu:0'):\n",
    "    start = time.time()\n",
    "\n",
    "    A = tf.constant(tf.eye(sz, sz))\n",
    "    for x in range(loops):\n",
    "        A = A * 100\n",
    "\n",
    "    print(f\"GPU execution time: {time.time() - start}\")"
   ]
  },
  {
   "cell_type": "code",
   "execution_count": null,
   "metadata": {},
   "outputs": [],
   "source": []
  }
 ],
 "metadata": {
  "kernelspec": {
   "display_name": "Python 3",
   "language": "python",
   "name": "python3"
  },
  "language_info": {
   "codemirror_mode": {
    "name": "ipython",
    "version": 3
   },
   "file_extension": ".py",
   "mimetype": "text/x-python",
   "name": "python",
   "nbconvert_exporter": "python",
   "pygments_lexer": "ipython3",
   "version": "3.7.9"
  }
 },
 "nbformat": 4,
 "nbformat_minor": 4
}
